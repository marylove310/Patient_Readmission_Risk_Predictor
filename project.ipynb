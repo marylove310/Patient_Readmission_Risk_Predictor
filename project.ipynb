{
 "cells": [
  {
   "cell_type": "markdown",
   "metadata": {},
   "source": [
    "## *Project Title: Patient Readmission Risk Predictor*\n",
    "#### Project Description\n",
    "The Patient Readmission Risk Predictor is a simple yet effective tool designed to assess a patient's likelihood of hospital readmission based on key health factors such as age, diagnosis, and previous hospital visits. This project leverages Python and Streamlit to provide an interactive, user-friendly web application where healthcare professionals or researchers can input patient details and receive an immediate risk assessment.\n",
    "\n",
    "The system evaluates risk based on predefined criteria:\n",
    "Patients aged 48 or older are considered at higher risk.\n",
    "Patients with more than 2 previous hospital admissions are flagged as high-risk.\n",
    "The tool provides a clear and structured output showing patient details and their calculated risk level.\n",
    "\n",
    "This project serves as an excellent entry point into data-driven healthcare analytics, helping to introduce real-world applications of data science and web development to students and professionals.\n",
    "\n",
    "---\n",
    "Problem Statement\n",
    "Hospital readmissions are a significant challenge in healthcare, often leading to increased costs, resource strain, and potential health complications for patients. Identifying high-risk patients early can help healthcare providers take proactive measures to reduce avoidable hospital readmissions.\n",
    "\n",
    "#### Key Challenges Addressed by This Project\n",
    "✅ Early Identification of High-Risk Patients – Helps predict which patients are more likely to be readmitted, allowing for better monitoring and intervention.\n",
    "✅ Simplified Risk Assessment – Provides an easy-to-use tool for medical staff or researchers to assess readmission risk without complex medical software.\n",
    "✅ Introduction to Data Science & AI in Healthcare – This project is an educational tool for students learning data science, helping them see the impact of data-driven decision-making in real-world applications.\n",
    "\n",
    "By integrating Streamlit for an interactive frontend, this project allows non-programmers (such as healthcare practitioners) to use the tool effortlessly while giving students practical experience in building real-world data science applications.\n",
    "\n",
    "---"
   ]
  },
  {
   "cell_type": "code",
   "execution_count": null,
   "metadata": {},
   "outputs": [
    {
     "ename": "",
     "evalue": "",
     "output_type": "error",
     "traceback": [
      "\u001b[1;31mFailed to start the Kernel. \n",
      "\u001b[1;31mUnable to start Kernel 'base (Python 3.11.7)' due to a timeout waiting for the ports to get used. \n",
      "\u001b[1;31mView Jupyter <a href='command:jupyter.viewOutput'>log</a> for further details."
     ]
    }
   ],
   "source": [
    "patients = [\n",
    "    {\"name\": \"Adam\", \"age\": 48, \"diagnosis\": \"Diabetes\", \"previous_admissions\": 3},\n",
    "    {\"name\": \"Eve\", \"age\": 29, \"diagnosis\": \"Cough\", \"previous_admissions\": 1},\n",
    "    {\"name\": \"John\", \"age\": 63, \"diagnosis\": \"Heart Disease\", \"previous_admissions\": 5}\n",
    "]\n",
    "\n",
    "for patient in patients:\n",
    "    age = patient[\"age\"]\n",
    "    diagnosis = patient[\"diagnosis\"]\n",
    "    prev_admissions = patient[\"previous_admissions\"]\n",
    "\n",
    "    if prev_admissions > 2 or age >= 48:\n",
    "        risk_level = \"High Risk\"\n",
    "    else:\n",
    "        risk_level = \"Low Risk\"\n",
    "\n",
    "    print(f\"Patient: {patient['name']}\")\n",
    "    print(f\" Age: {age}\")\n",
    "    print(f\" Diagnosis: {diagnosis}\")\n",
    "    print(f\" Previous Admissions: {prev_admissions}\")\n",
    "    print(f\" Risk Level: {risk_level}\")\n",
    "    print(\"-\" * 40)  # just a separator for readability\n"
   ]
  },
  {
   "cell_type": "code",
   "execution_count": null,
   "metadata": {},
   "outputs": [],
   "source": []
  }
 ],
 "metadata": {
  "kernelspec": {
   "display_name": "base",
   "language": "python",
   "name": "python3"
  },
  "language_info": {
   "name": "python",
   "version": "3.11.7"
  }
 },
 "nbformat": 4,
 "nbformat_minor": 2
}
